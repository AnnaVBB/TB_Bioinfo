{
 "cells": [
  {
   "cell_type": "markdown",
   "metadata": {},
   "source": [
    "#### Projeto TCGA - BRCA, COAD, LUAD- Normal vs Maligno ####\n",
    "\n",
    "Objetivo: análise comparativa de dados genômicos e clínicos de amostras normais e malignas disponíveis no banco de dados do National Cancer Institute (TCGA - The Cancer Genome Atlas) do câncer de mama (TCGA-BRCA), câncer de pulmão (TCGA-LUAD) e câncer de intestino (TCGA-COAD). \n",
    "O foco será em: vias de sinalização do câncer (Gene Set Enrichment Analysis), análise de expressão gênica (RNA-seq/STAR counts) e correlações com dados clínicos.\n",
    "- Comparar o perfil de mutações entre amostras normais e malignas.\n",
    "    - Identificar o padrão de heterogenidade do tumor (a partir do padrão de mutação)\n",
    "- Analisar a expressão diferencial de genes entre as amostras.\n",
    "- Identificar potenciais marcadores moleculares associados ao fenótipo maligno.\n",
    "    - A partir da análise de expressão diferencial e mutações, selecionar os genes com maior potencial de serem marcadores moleculares, realizando uma análise de enriquecimento de caminho (pathway enrichment) para entender os processos biológicos envolvidos.\n",
    "- Correlacionar os dados clínicos com os achados genômicos."
   ]
  },
  {
   "cell_type": "markdown",
   "metadata": {},
   "source": [
    "#### Pré-processamento dos dados e análise descritiva ####\n",
    "- Manifesto \n",
    "- Expressão gênica (RNA-seq/STAR counts)\n",
    "    - Processamento de dados RNA-seq alinhando os reads com um genoma de referência e normalizando os dados para contagem (STAR counts). \n",
    "\n",
    "- Dados Clínicos\n",
    "    - Baixar os dados clínicos\n",
    "    - Alinhar as infrmações com as amostras do TCGA\n",
    "    - Verificar as variáveis importantes\n"
   ]
  },
  {
   "cell_type": "markdown",
   "metadata": {},
   "source": [
    "#### Análise Descritiva ####\n",
    "- Analise de Mutações\n",
    "    - Tabelas de contagem e gráficos de barras para mostrar a frequência de mutações em genes relevantes para câncer\n",
    "    - Diferenciar as amostras normais e malignas \n",
    "\n",
    "- Expressão gênica\n",
    "    - Gráficos de distribuição (boxplots) comparando a expressão gênica nas normais e malignas \n",
    "    - Normalização dos dados (usando TPM ou FPKM)\n",
    "    - Mapas de calor para ilustrar a expressão gênica entre as amostras, destacando os genes diferencialmente expressos\n",
    "    - Volcano plots",
    "\n",
    "- Análise Clínica:\n",
    "    - Tabela descritiva com as principais variáveis clínicas {selecionar as variáveis}\n",
    "    - histogramas para visualizar a distribuição\n"
   ]
  },
  {
   "cell_type": "markdown",
   "metadata": {},
   "source": [
    "#### Análise Exploratória ####\n",
    "- Perfil de Mutações: \n",
    "    - Utilize ferramentas de bioinformática, como MutSigCV, para identificar genes que apresentam mutações significativas associadas ao fenótipo maligno. \n",
    "    - Aplique testes estatísticos, como o teste qui-quadrado, para comparar a frequência de mutações entre amostras normais e malignas.\n",
    "\n",
    "- Expressão Diferencial: \n",
    "    - Use pacotes como DESeq2 ou edgeR para realizar a análise de expressão diferencial de genes. \n",
    "    - Compare as expressões dos genes entre as amostras normais e malignas, utilizando testes de hipótese (como t-test ou ANOVA).\n",
    "\n",
    "- Correlação com Dados Clínicos: \n",
    "    - Realize uma análise de correlação entre os dados genômicos e clínicos usando métodos como análise de regressão linear, análise de sobrevivência de Kaplan-Meier ou regressão de Cox para identificar fatores associados ao prognóstico clínico."
   ]
  }
